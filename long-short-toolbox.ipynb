{
 "cells": [
  {
   "cell_type": "code",
   "execution_count": 1,
   "metadata": {
    "collapsed": true
   },
   "outputs": [],
   "source": [
    "import pandas as pd\n",
    "import numpy as np\n",
    "import yfinance as yf\n",
    "%matplotlib inline\n",
    "import matplotlib.pyplot as plt"
   ]
  },
  {
   "cell_type": "code",
   "execution_count": 2,
   "outputs": [],
   "source": [
    "def risk_appetite(eqty, tolerance, mn, mx, span, shape):\n",
    "    \"\"\"\n",
    "    :param eqty: equity curve series\n",
    "    :param tolerance: tolerance for drawdown (<0)\n",
    "    :param mn: min risk\n",
    "    :param mx: max risk\n",
    "    :param span: exponential moving average to smoothe the risk_appetite\n",
    "    :param shape: convex (>45 deg diagonal) = 1, concave (<diagonal) = -1, else: simple risk_appetite\n",
    "    \"\"\"\n",
    "\n",
    "    # drawdown rebased\n",
    "    eqty = pd.Series(eqty)\n",
    "    watermark = eqty.expanding().max()  # all-time-high peak equity\n",
    "    drawdown = eqty / watermark - 1  # drawdown from peak\n",
    "    ddr = 1 - np.minimum(drawdown / tolerance, 1)  # drawdown rebased to tolerance from 0 to 1\n",
    "    avg_ddr = ddr.ewm(span=span).mean()  # span rebased drawdown\n",
    "\n",
    "    # Shape of the curve\n",
    "    if shape == 1:  #\n",
    "        _power = mx / mn  # convex\n",
    "    elif shape == -1:\n",
    "        _power = mn / mx  # concave\n",
    "    else:\n",
    "        _power = 1  # raw, straight line\n",
    "    ddr_power = avg_ddr ** _power  # ddr\n",
    "\n",
    "    # mn + adjusted delta\n",
    "    risk_appetite = mn + (mx - mn) * ddr_power\n",
    "\n",
    "    return risk_appetite"
   ],
   "metadata": {
    "collapsed": false
   }
  },
  {
   "cell_type": "markdown",
   "source": [
    "# Portfolio Simulation\n",
    "1. Hypothetical portfolio is benchmarked to the S&P 500 index\n",
    "2. Initial capital (K) is set at USD 1 million\n",
    "3. Beta (sensitivity to the market) has been extracted from the Yahoo Finance website\n",
    "4. The number of shares and relative stop losses are calibrated to -0.50% relative risk adjusted to the portfolio\n",
    "5. The portfolio is run from December 31, 2020, through June 30, 2021"
   ],
   "metadata": {
    "collapsed": false
   }
  },
  {
   "cell_type": "code",
   "execution_count": 4,
   "outputs": [
    {
     "name": "stdout",
     "output_type": "stream",
     "text": [
      "[*********************100%***********************]  11 of 11 completed\n",
      "       Beta  Shares     rSL  Side   rCost  rPrice    Cost   Price\n",
      "QCOM   1.34   -1900   42.75    -1   38.33   32.09  141.86  137.89\n",
      "TSLA   2.00    -100  231.00    -1   65.73   52.72  243.26  226.57\n",
      "NFLX   0.75    -400  156.00    -1  141.29  122.91  522.86  528.21\n",
      "DIS    1.20    -800   54.20    -1   48.01   40.90  177.68  175.77\n",
      "PG     0.41   -5500   37.50    -1   35.23   30.07  130.36  129.22\n",
      "MMM    0.95    1600   42.75     1   42.62   43.08  157.72  185.13\n",
      "IBM    1.23    1800   29.97     1   28.69   29.94  106.18  128.68\n",
      "BRK-B  0.90    2800   59.97     1   61.73   64.67  228.45  277.92\n",
      "UPS    1.05    1100   39.97     1   41.58   45.96  153.86  197.53\n",
      "F      1.15   20800    2.10     1    2.09    3.13    7.72   13.47\n"
     ]
    }
   ],
   "source": [
    "port = np.nan\n",
    "K = 1000000\n",
    "lot = 100\n",
    "port_tickers = ['QCOM', 'TSLA', 'NFLX', 'DIS', 'PG', 'MMM', 'IBM', 'BRK-B', 'UPS', 'F']\n",
    "bm_ticker = '^GSPC'\n",
    "tickers_list = [bm_ticker] + port_tickers\n",
    "df_data = {\n",
    "    'Beta': [1.34, 2, 0.75, 1.2, 0.41, 0.95, 1.23, 0.9, 1.05, 1.15],\n",
    "    'Shares': [-1900, -100, -400, -800, -5500, 1600, 1800, 2800, 1100, 20800],\n",
    "    'rSL': [42.75, 231, 156, 54.2, 37.5, 42.75, 29.97, 59.97, 39.97, 2.10]\n",
    "}\n",
    "port = pd.DataFrame(df_data, index=port_tickers)\n",
    "port['Side'] = np.sign(port['Shares'])\n",
    "\n",
    "start_dt = '2021-01-01'\n",
    "end_dt = '2021-07-01'\n",
    "price_df = round(yf.download(tickers=tickers_list, start='2021-01-01', end='2021-07-01',\n",
    "                             interval=\"1d\", group_by='column', auto_adjust=True,\n",
    "                             prepost=True, threads=True, proxy=None)['Close'], 2)\n",
    "\n",
    "bm_cost = price_df[bm_ticker][0]\n",
    "bm_price = price_df[bm_ticker][-1]\n",
    "\n",
    "port['rCost'] = round(price_df.iloc[0, :].div(bm_cost) * 1000, 2)\n",
    "port['rPrice'] = round(price_df.iloc[-1, :].div(bm_price) * 1000, 2)\n",
    "port['Cost'] = price_df.iloc[0, :]\n",
    "port['Price'] = price_df.iloc[-1, :]\n",
    "\n",
    "print(port)"
   ],
   "metadata": {
    "collapsed": false
   }
  },
  {
   "cell_type": "code",
   "execution_count": 5,
   "outputs": [
    {
     "name": "stdout",
     "output_type": "stream",
     "text": [
      "Gross Exposure 3.151 Net Exposure 0.145 Net Beta 0.25 concentration 0.0\n",
      "rGross Exposure 3.151 rNet Exposure 0.145 rNet Beta 0.25\n"
     ]
    }
   ],
   "source": [
    "# BV, book value: cost in fund currency (USD) * open positions\n",
    "BV = port['Shares'] * port['Cost']\n",
    "\n",
    "# MV, Market Value: shares in currency (USD) * current close price\n",
    "MV = port['Shares'] * port['Price']\n",
    "\n",
    "# rMV, relative market value\n",
    "rMV = port['Shares'] * port['rPrice']\n",
    "\n",
    "port['rR'] = (port['rCost'] - port['rSL'])\n",
    "port['Weight'] = round(MV.div(abs(MV).sum()), 3)\n",
    "port['rRisk'] = -round(np.maximum(0, (port['rR'] * port['Shares']) / K), 4)\n",
    "port['rRAR'] = round((port['rPrice'] - port['rCost']) / port['rR'], 1)\n",
    "port['rCTR'] = round(port['Shares'] * (port['rPrice'] - port['rCost']) / K, 4)\n",
    "port['CTR'] = round(port['Shares'] * (port['Price'] - port['Cost']) / K, 4)\n",
    "port_long = port[port['Side'] > 0]\n",
    "port_short = port[port['Side'] < 0]\n",
    "\n",
    "concentration = (port_long['Side'].count() - port_short['Side'].count()) / port['Side'].count()\n",
    "\n",
    "# Gross exposure: absolute sum of MV fx adjusted divided by K\n",
    "gross = round(abs(MV).sum() / K, 3)\n",
    "\n",
    "# Net exposure: arithmetic net sum of MV divided by gross exposure\n",
    "net = round(MV.sum() / abs(MV).sum(), 3)\n",
    "\n",
    "# Net beta: sum product of MV * Beta divided by gross exposure\n",
    "net_Beta = round((MV * port['Beta']).sum() / abs(MV).sum(), 2)\n",
    "5\n",
    "print('Gross Exposure', gross, 'Net Exposure', net, 'Net Beta', net_Beta, 'concentration', concentration)\n",
    "\n",
    "rnet = round(rMV.sum() / abs(rMV).sum(), 3)\n",
    "rnet_Beta = round((rMV * port['Beta']).sum() / abs(rMV).sum(), 2)\n",
    "\n",
    "print('rGross Exposure', gross, 'rNet Exposure', rnet, 'rNet Beta', rnet_Beta)"
   ],
   "metadata": {
    "collapsed": false
   }
  },
  {
   "cell_type": "code",
   "execution_count": 6,
   "outputs": [
    {
     "data": {
      "text/plain": "       Side  Weight   rRisk   rRAR    rCTR     CTR\nTSLA     -1  -0.007 -0.0165    0.1  0.0013  0.0017\nDIS      -1  -0.045 -0.0050    1.1  0.0057  0.0015\nNFLX     -1  -0.067 -0.0059    1.2  0.0074 -0.0021\nQCOM     -1  -0.083 -0.0084    1.4  0.0119  0.0075\nPG       -1  -0.226 -0.0125    2.3  0.0284  0.0063\nF         1   0.089 -0.0000 -104.0  0.0216  0.1196\nMMM       1   0.094 -0.0000   -3.5  0.0007  0.0439\nIBM       1   0.074 -0.0000   -1.0  0.0022  0.0405\nBRK-B     1   0.247 -0.0049    1.7  0.0082  0.1385\nUPS       1   0.069 -0.0018    2.7  0.0048  0.0480",
      "text/html": "<div>\n<style scoped>\n    .dataframe tbody tr th:only-of-type {\n        vertical-align: middle;\n    }\n\n    .dataframe tbody tr th {\n        vertical-align: top;\n    }\n\n    .dataframe thead th {\n        text-align: right;\n    }\n</style>\n<table border=\"1\" class=\"dataframe\">\n  <thead>\n    <tr style=\"text-align: right;\">\n      <th></th>\n      <th>Side</th>\n      <th>Weight</th>\n      <th>rRisk</th>\n      <th>rRAR</th>\n      <th>rCTR</th>\n      <th>CTR</th>\n    </tr>\n  </thead>\n  <tbody>\n    <tr>\n      <th>TSLA</th>\n      <td>-1</td>\n      <td>-0.007</td>\n      <td>-0.0165</td>\n      <td>0.1</td>\n      <td>0.0013</td>\n      <td>0.0017</td>\n    </tr>\n    <tr>\n      <th>DIS</th>\n      <td>-1</td>\n      <td>-0.045</td>\n      <td>-0.0050</td>\n      <td>1.1</td>\n      <td>0.0057</td>\n      <td>0.0015</td>\n    </tr>\n    <tr>\n      <th>NFLX</th>\n      <td>-1</td>\n      <td>-0.067</td>\n      <td>-0.0059</td>\n      <td>1.2</td>\n      <td>0.0074</td>\n      <td>-0.0021</td>\n    </tr>\n    <tr>\n      <th>QCOM</th>\n      <td>-1</td>\n      <td>-0.083</td>\n      <td>-0.0084</td>\n      <td>1.4</td>\n      <td>0.0119</td>\n      <td>0.0075</td>\n    </tr>\n    <tr>\n      <th>PG</th>\n      <td>-1</td>\n      <td>-0.226</td>\n      <td>-0.0125</td>\n      <td>2.3</td>\n      <td>0.0284</td>\n      <td>0.0063</td>\n    </tr>\n    <tr>\n      <th>F</th>\n      <td>1</td>\n      <td>0.089</td>\n      <td>-0.0000</td>\n      <td>-104.0</td>\n      <td>0.0216</td>\n      <td>0.1196</td>\n    </tr>\n    <tr>\n      <th>MMM</th>\n      <td>1</td>\n      <td>0.094</td>\n      <td>-0.0000</td>\n      <td>-3.5</td>\n      <td>0.0007</td>\n      <td>0.0439</td>\n    </tr>\n    <tr>\n      <th>IBM</th>\n      <td>1</td>\n      <td>0.074</td>\n      <td>-0.0000</td>\n      <td>-1.0</td>\n      <td>0.0022</td>\n      <td>0.0405</td>\n    </tr>\n    <tr>\n      <th>BRK-B</th>\n      <td>1</td>\n      <td>0.247</td>\n      <td>-0.0049</td>\n      <td>1.7</td>\n      <td>0.0082</td>\n      <td>0.1385</td>\n    </tr>\n    <tr>\n      <th>UPS</th>\n      <td>1</td>\n      <td>0.069</td>\n      <td>-0.0018</td>\n      <td>2.7</td>\n      <td>0.0048</td>\n      <td>0.0480</td>\n    </tr>\n  </tbody>\n</table>\n</div>"
     },
     "execution_count": 6,
     "metadata": {},
     "output_type": "execute_result"
    }
   ],
   "source": [
    "port[['Side', 'Weight', 'rRisk', 'rRAR', 'rCTR', 'CTR']].sort_values(by=['Side', 'rRAR'])"
   ],
   "metadata": {
    "collapsed": false
   }
  },
  {
   "cell_type": "code",
   "execution_count": 7,
   "outputs": [
    {
     "data": {
      "text/plain": "      Weight   rRisk   rRAR    rCTR     CTR\nSide                                       \n-1    -0.428 -0.0483    6.1  0.0547  0.0149\n 1     0.573 -0.0067 -104.1  0.0375  0.3905",
      "text/html": "<div>\n<style scoped>\n    .dataframe tbody tr th:only-of-type {\n        vertical-align: middle;\n    }\n\n    .dataframe tbody tr th {\n        vertical-align: top;\n    }\n\n    .dataframe thead th {\n        text-align: right;\n    }\n</style>\n<table border=\"1\" class=\"dataframe\">\n  <thead>\n    <tr style=\"text-align: right;\">\n      <th></th>\n      <th>Weight</th>\n      <th>rRisk</th>\n      <th>rRAR</th>\n      <th>rCTR</th>\n      <th>CTR</th>\n    </tr>\n    <tr>\n      <th>Side</th>\n      <th></th>\n      <th></th>\n      <th></th>\n      <th></th>\n      <th></th>\n    </tr>\n  </thead>\n  <tbody>\n    <tr>\n      <th>-1</th>\n      <td>-0.428</td>\n      <td>-0.0483</td>\n      <td>6.1</td>\n      <td>0.0547</td>\n      <td>0.0149</td>\n    </tr>\n    <tr>\n      <th>1</th>\n      <td>0.573</td>\n      <td>-0.0067</td>\n      <td>-104.1</td>\n      <td>0.0375</td>\n      <td>0.3905</td>\n    </tr>\n  </tbody>\n</table>\n</div>"
     },
     "execution_count": 7,
     "metadata": {},
     "output_type": "execute_result"
    }
   ],
   "source": [
    "port[['Side', 'Weight', 'rRisk', 'rRAR', 'rCTR', 'CTR']].groupby('Side').sum()"
   ],
   "metadata": {
    "collapsed": false
   }
  },
  {
   "cell_type": "code",
   "execution_count": 8,
   "outputs": [
    {
     "name": "stdout",
     "output_type": "stream",
     "text": [
      "       rRAR   rRisk  rRisk_adj  Shares  Qty_adj  Shares_adj  Weight  \\\n",
      "Side                                                                  \n",
      "-1      6.1 -0.0483    -0.0266   -8700   1200.0     -7500.0  -0.428   \n",
      " 1   -104.1 -0.0067    -0.0015   28100  -3000.0     25100.0   0.573   \n",
      "\n",
      "      Weight_adj  \n",
      "Side              \n",
      "-1        -0.527  \n",
      " 1         0.474  \n"
     ]
    },
    {
     "name": "stderr",
     "output_type": "stream",
     "text": [
      "/var/folders/21/rvw9mkxn5jz8cstyz4tllyhr0000gn/T/ipykernel_15610/3307250601.py:11: FutureWarning: The series.append method is deprecated and will be removed from pandas in a future version. Use pandas.concat instead.\n",
      "  port['Qty_adj'] = shares_adj_short.append(shares_adj_long)\n"
     ]
    }
   ],
   "source": [
    "adjust_long = adjust_short = -0.01\n",
    "\n",
    "pro_rata_long = port_long['rRisk'] / (port_long['rRisk'].sum() * port_long['rRAR'])\n",
    "risk_adj_long = (abs(adjust_long) * pro_rata_long * K / port_long['rR'] // lot) * lot\n",
    "shares_adj_long = np.minimum(risk_adj_long, port_long['Shares']) * np.sign(adjust_long)\n",
    "\n",
    "pro_rata_short = port_short['rRisk'] / (port_short['rRisk'].sum() * port_short['rRAR'])\n",
    "risk_adj_short = (abs(adjust_short) * pro_rata_short * K / port_short['rR'] // lot) * lot\n",
    "shares_adj_short = np.maximum(risk_adj_short, port_short['Shares']) * np.sign(adjust_short)\n",
    "\n",
    "port['Qty_adj'] = shares_adj_short.append(shares_adj_long)\n",
    "port['Shares_adj'] = port['Shares'] + port['Qty_adj']\n",
    "port['rRisk_adj'] = -round(np.maximum(0, (port['rR'] * port['Shares_adj']) / K), 4)\n",
    "MV_adj = port['Shares_adj'] * port['Price']\n",
    "rMV_adj = port['Shares_adj'] * port['rPrice']\n",
    "port['Weight_adj'] = round(MV_adj.div(abs(MV_adj).sum()), 3)\n",
    "\n",
    "print(port[['Side', 'rRAR', 'rRisk', 'rRisk_adj', 'Shares', 'Qty_adj', 'Shares_adj', 'Weight', 'Weight_adj']].groupby(\n",
    "    'Side').sum())"
   ],
   "metadata": {
    "collapsed": false
   }
  },
  {
   "cell_type": "code",
   "execution_count": 9,
   "outputs": [
    {
     "name": "stdout",
     "output_type": "stream",
     "text": [
      "       Side   rRAR   rRisk  rRisk_adj  Shares  Qty_adj  Shares_adj  Weight  \\\n",
      "TSLA     -1    0.1 -0.0165    -0.0000    -100    100.0         0.0  -0.007   \n",
      "DIS      -1    1.1 -0.0050    -0.0037    -800    200.0      -600.0  -0.045   \n",
      "NFLX     -1    1.2 -0.0059    -0.0044    -400    100.0      -300.0  -0.067   \n",
      "QCOM     -1    1.4 -0.0084    -0.0071   -1900    300.0     -1600.0  -0.083   \n",
      "PG       -1    2.3 -0.0125    -0.0114   -5500    500.0     -5000.0  -0.226   \n",
      "MMM       1   -3.5 -0.0000    -0.0000    1600     -0.0      1600.0   0.094   \n",
      "IBM       1   -1.0 -0.0000    -0.0000    1800     -0.0      1800.0   0.074   \n",
      "F         1 -104.0 -0.0000    -0.0000   20800     -0.0     20800.0   0.089   \n",
      "BRK-B     1    1.7 -0.0049    -0.0007    2800  -2400.0       400.0   0.247   \n",
      "UPS       1    2.7 -0.0018    -0.0008    1100   -600.0       500.0   0.069   \n",
      "\n",
      "       Weight_adj  \n",
      "TSLA        0.000  \n",
      "DIS        -0.049  \n",
      "NFLX       -0.074  \n",
      "QCOM       -0.103  \n",
      "PG         -0.301  \n",
      "MMM         0.138  \n",
      "IBM         0.108  \n",
      "F           0.130  \n",
      "BRK-B       0.052  \n",
      "UPS         0.046  \n"
     ]
    }
   ],
   "source": [
    "print(\n",
    "    port[['Side', 'rRAR', 'rRisk', 'rRisk_adj', 'Shares', 'Qty_adj', 'Shares_adj', 'Weight', 'Weight_adj']].sort_values(\n",
    "        by=['Side', 'rRisk_adj'], ascending=[True, False]))"
   ],
   "metadata": {
    "collapsed": false
   }
  },
  {
   "cell_type": "code",
   "execution_count": 10,
   "outputs": [
    {
     "name": "stdout",
     "output_type": "stream",
     "text": [
      "Gross Exposure 3.151 Net Exposure 0.145 Net Beta 0.25 concentration 0.0\n",
      "Gross Exposure_adj 2.149 Net Exposure_adj -0.052 Net Beta_adj 0.13 concentration adj 1\n",
      "Gross Exposure_adj 2.149 rNet Exposure_adj -0.053 rNet Beta_adj 0.13\n"
     ]
    }
   ],
   "source": [
    "print('Gross Exposure', gross, 'Net Exposure', net, 'Net Beta', net_Beta, 'concentration', concentration)\n",
    "gross_adj = round(abs(MV_adj).sum() / K, 3)\n",
    "net_adj = round(MV_adj.sum() / abs(MV_adj).sum(), 3)\n",
    "net_Beta_adj = round((MV_adj * port['Beta']).sum() / abs(MV_adj).sum(), 2)\n",
    "net_pos_adj = port.loc[port['Shares_adj'] > 0, 'Shares_adj'].count() - port.loc[\n",
    "    port['Shares_adj'] < 0, 'Shares_adj'].count()\n",
    "print('Gross Exposure_adj', gross_adj, 'Net Exposure_adj', net_adj,\n",
    "      'Net Beta_adj', net_Beta_adj, 'concentration adj', net_pos_adj)\n",
    "rnet_adj = round(rMV_adj.sum() / abs(rMV_adj).sum(), 3)\n",
    "rnet_Beta_adj = round((rMV_adj * port['Beta']).sum() / abs(rMV_adj).sum(), 2)\n",
    "print('Gross Exposure_adj', gross_adj, 'rNet Exposure_adj', rnet_adj, 'rNet Beta_adj', rnet_Beta_adj)"
   ],
   "metadata": {
    "collapsed": false
   }
  }
 ],
 "metadata": {
  "kernelspec": {
   "display_name": "Python 3",
   "language": "python",
   "name": "python3"
  },
  "language_info": {
   "codemirror_mode": {
    "name": "ipython",
    "version": 2
   },
   "file_extension": ".py",
   "mimetype": "text/x-python",
   "name": "python",
   "nbconvert_exporter": "python",
   "pygments_lexer": "ipython2",
   "version": "2.7.6"
  }
 },
 "nbformat": 4,
 "nbformat_minor": 0
}
